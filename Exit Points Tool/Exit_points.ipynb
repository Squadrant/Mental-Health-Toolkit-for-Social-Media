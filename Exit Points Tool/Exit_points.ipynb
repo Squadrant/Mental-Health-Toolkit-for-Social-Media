{
 "cells": [
  {
   "cell_type": "markdown",
   "metadata": {},
   "source": [
    "# Exit point spacing"
   ]
  },
  {
   "cell_type": "markdown",
   "metadata": {},
   "source": [
    "The point of this notebook is to show some example functions that can be used to determine how frequent exit points should occur within your social media platform. These functions depend on a variable called $count\\_user\\_interaction$ this variable is intended to measure the amount of time a user has spent on a platform, this could be measured by the duration of their session, the number of posts they have seen, or another metric appropiate for your platform.  \n",
    "There are also three important parameters for the functions, these are $min\\_freq$ or $max\\_period$, $alpha$ and $beta$. These can be ignored but it is recommended these are tweaked to get the desired results from a function depending on what is suitable for your platform.  \n",
    "$alpha$ and $beta$ are to control the rate of growth of a function over time.  \n",
    "$min\\_freq$ and $max\\_period$ bound the function so that exit points cannot occur with too high a frequency, this is to prevent a social media platform's content being made up of entirely exit points.   \n",
    "The idea is the higher this metric gets the more common exit points should be.  \n",
    "This function should be ran each time a user gets to an exit point to determine when the next when should occur.\n",
    "The value of these functions can then be used to measure the number of posts until the next exit point, an amount of time to pass until the next one, or the distance needed to scroll until the next exit point, or another appropiate interprettation for your platform."
   ]
  },
  {
   "cell_type": "code",
   "execution_count": 3,
   "metadata": {},
   "outputs": [],
   "source": [
    "import math"
   ]
  },
  {
   "cell_type": "code",
   "execution_count": 4,
   "metadata": {},
   "outputs": [],
   "source": [
    "# Frequency functions,these increase over time\n",
    "def frequency_a(count_user_interaction,min_freq=math.inf,alpha=1,beta=0):\n",
    "    freq=alpha*log(count_user_interaction)+beta \n",
    "    freq=min(freq,min_freq)\n",
    "    return freq\n",
    "\n",
    "def frequency_b(count_user_interaction,min_freq=math.inf,alpha=1,beta=0):\n",
    "    freq=alpha*math.exp(count_user_interaction)+beta\n",
    "    freq=min(freq,min_freq)\n",
    "    return freq\n",
    "\n",
    "def frequency_c(count_user_interaction,min_freq=math.inf,alpha=1,beta=0):\n",
    "    freq=alpha*count_user_interaction**0.5+beta\n",
    "    freq=min(freq,min_freq)\n",
    "    return freq\n",
    "\n",
    "#Time period functions, these decay over time\n",
    "def time_period_a(count_user_interaction,max_timeperiod=-math.inf,alpha=1,beta=0):\n",
    "    period=alpha*1/(log(count_user_interaction))+beta\n",
    "    period=max(period,max_time_period)\n",
    "\n",
    "def time_period_b(count_user_interaction,max_timeperiod=-math.inf,alpha=1,beta=0):\n",
    "    period=alpha*1/(math.exp(count_user_interaction))+beta\n",
    "    period=max(period,max_time_period)\n",
    "\n",
    "def time_period_c(count_user_interaction,max_timeperiod=-math.inf,alpha=1,beta=0):\n",
    "    period=alpha*1/count_user_interaction+beta\n",
    "    period=max(period,max_time_period)\n",
    "\n",
    "#In some cases not the spacing between exit points may be more appropiate\n",
    "def constant_gap(gap,max_timeperiod=-math.inf,alpha=1,beta=0):\n",
    "    return gap"
   ]
  },
  {
   "cell_type": "markdown",
   "metadata": {},
   "source": []
  },
  {
   "cell_type": "code",
   "execution_count": null,
   "metadata": {},
   "outputs": [],
   "source": []
  }
 ],
 "metadata": {
  "kernelspec": {
   "display_name": "Python 3 (ipykernel)",
   "language": "python",
   "name": "python3"
  },
  "language_info": {
   "codemirror_mode": {
    "name": "ipython",
    "version": 3
   },
   "file_extension": ".py",
   "mimetype": "text/x-python",
   "name": "python",
   "nbconvert_exporter": "python",
   "pygments_lexer": "ipython3",
   "version": "3.7.9"
  }
 },
 "nbformat": 4,
 "nbformat_minor": 1
}
